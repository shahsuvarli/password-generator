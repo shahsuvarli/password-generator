{
 "cells": [
  {
   "cell_type": "code",
   "execution_count": null,
   "metadata": {},
   "outputs": [],
   "source": [
    "import string\n",
    "import random\n",
    "import pyperclip"
   ]
  },
  {
   "cell_type": "code",
   "execution_count": null,
   "metadata": {},
   "outputs": [],
   "source": [
    "letters = string.ascii_letters\n",
    "digits = string.digits\n",
    "characters = string.punctuation"
   ]
  },
  {
   "cell_type": "code",
   "execution_count": null,
   "metadata": {},
   "outputs": [],
   "source": [
    "chars = letters+digits+characters"
   ]
  },
  {
   "cell_type": "code",
   "execution_count": null,
   "metadata": {
    "scrolled": false
   },
   "outputs": [],
   "source": [
    "# 12 rəqəmli kombinasiya yaratmaq üçün\n",
    "\n",
    "code = ''\n",
    "for i in range(12):\n",
    "    code += chars[random.randint(0,len(chars)-1)]\n",
    "code"
   ]
  },
  {
   "cell_type": "code",
   "execution_count": null,
   "metadata": {},
   "outputs": [],
   "source": [
    "# 1 milyon ədəd 10 rəqəmli kombinasiya yaratmaq üçün\n",
    "\n",
    "lis = []\n",
    "for m in range(1000000):\n",
    "    code = ''\n",
    "    for i in range(10):\n",
    "        code += char[random.randint(0,len(char)-1)]\n",
    "    lis.append(code)"
   ]
  },
  {
   "cell_type": "code",
   "execution_count": null,
   "metadata": {},
   "outputs": [],
   "source": [
    "# 1 milyon ədəd olan kombinasiyaya öz adının parol olaraq çevrilməsi\n",
    "\n",
    "dic = {}\n",
    "for i in lis:\n",
    "    dic[i] = i"
   ]
  }
 ],
 "metadata": {
  "kernelspec": {
   "display_name": "Python 3",
   "language": "python",
   "name": "python3"
  },
  "language_info": {
   "codemirror_mode": {
    "name": "ipython",
    "version": 3
   },
   "file_extension": ".py",
   "mimetype": "text/x-python",
   "name": "python",
   "nbconvert_exporter": "python",
   "pygments_lexer": "ipython3",
   "version": "3.7.4"
  }
 },
 "nbformat": 4,
 "nbformat_minor": 2
}
